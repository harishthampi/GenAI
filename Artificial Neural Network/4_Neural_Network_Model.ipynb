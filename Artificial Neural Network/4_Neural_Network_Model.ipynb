{
  "nbformat": 4,
  "nbformat_minor": 0,
  "metadata": {
    "colab": {
      "provenance": []
    },
    "kernelspec": {
      "name": "python3",
      "display_name": "Python 3"
    },
    "language_info": {
      "name": "python"
    }
  },
  "cells": [
    {
      "cell_type": "markdown",
      "source": [
        "# Normalization Demo\n"
      ],
      "metadata": {
        "id": "5AijJdC-mC3I"
      }
    },
    {
      "cell_type": "code",
      "source": [
        "import numpy as np\n",
        "data = np.array([10,20,30,40,50,1000]) # 1000 is an outlier - Outliers are data points that are significantly different from the rest of the data.\n",
        "\n",
        "# Min-Max Scaling: Scales values between 0 and 1\n",
        "def min_max_scaling(data):\n",
        "  max = np.max(data)\n",
        "  min = np.min(data)\n",
        "  return (data-min)/(max - min)\n",
        "\n",
        "# Z-Score Standardization: Mean = 0, Standard Deviation = 1\n",
        "def z_score_standardization(data):\n",
        "  mean = np.mean(data)\n",
        "  std_deviation = np.std(data)\n",
        "  return (data-mean)/std_deviation\n",
        "\n",
        "min_max_scaled_data = min_max_scaling(data)\n",
        "z_score_standardized_data = z_score_standardization(data)\n",
        "\n",
        "print(f'Original Data: {data}')\n",
        "print(f'Max-min scaled Data: {min_max_scaled_data}')\n",
        "print(f'Z-score standardized Data: {z_score_standardized_data}')"
      ],
      "metadata": {
        "colab": {
          "base_uri": "https://localhost:8080/"
        },
        "id": "R1jbXpKNjqT3",
        "outputId": "865c101c-d539-472e-b80c-14157bd22c09"
      },
      "execution_count": null,
      "outputs": [
        {
          "output_type": "stream",
          "name": "stdout",
          "text": [
            "Original Data: [  10   20   30   40   50 1000]\n",
            "Max-min scaled Data: [0.         0.01010101 0.02020202 0.03030303 0.04040404 1.        ]\n",
            "Z-score standardized Data: [-0.50221883 -0.47457376 -0.44692869 -0.41928361 -0.39163854  2.23464343]\n"
          ]
        }
      ]
    },
    {
      "cell_type": "markdown",
      "source": [
        "# Example 1 - House Price Prediction (Regression)"
      ],
      "metadata": {
        "id": "NUVsSh6CmI2k"
      }
    },
    {
      "cell_type": "markdown",
      "source": [
        "## Synthetic dataset"
      ],
      "metadata": {
        "id": "dAtcxKh7mL2F"
      }
    },
    {
      "cell_type": "code",
      "source": [
        "from re import VERBOSE\n",
        "# Example 1 - House Price Prediction (Regression) with Synthetic dataset\n",
        "# Predict house prices based on 10 numerical features\n",
        "\n",
        "import tensorflow as tf\n",
        "import numpy as np\n",
        "from tensorflow.keras import layers,models\n",
        "\n",
        "# Generate synthetic dataset (1000 samples, 10 features)\n",
        "np.random.seed(42)\n",
        "X_train = np.random.rand(1000,10)\n",
        "y_train = np.random.rand(1000) * 500000 # House prices between 0-500K\n",
        "\n",
        "# Generate test dataset (200 samples)\n",
        "X_test = np.random.rand(200,10)\n",
        "y_test = np.random.rand(200) * 500000\n",
        "# Build model\n",
        "model = models.Sequential([\n",
        "    layers.Dense(64,activation='relu',input_shape=(10,)),\n",
        "    layers.Dense(32,activation='relu'),\n",
        "    layers.Dense(1)  # Single output for regression\n",
        "])\n",
        "# Compiling the model\n",
        "model.compile(optimizer='adam',loss='mse',metrics=['mae'])\n",
        "# Training the model\n",
        "model.fit(X_train,y_train,epochs=20,batch_size=32,verbose=1)\n",
        "# Evaluate the model\n",
        "test_loss,test_mae = model.evaluate(X_test,y_test)\n",
        "\n",
        "print(f' Test MAE:${test_mae:.2f}')\n",
        "# Predict a random houseprice\n",
        "random_sample = np.random.rand(1,10)\n",
        "predicted_price = model.predict(random_sample)\n",
        "print(f'Predicted Price for Random Sample: ${predicted_price[0][0]:.2f}')\n",
        "\n",
        "# MAE is around 243K - 245K, which means on average, the predictions are off by nearly half of the actual house price.\n",
        "# This is very bad because an error of $243K in a price range of $500K means the model is almost random.\n",
        "# The dataset is completely random, meaning there is no real pattern for the model to learn.\n",
        "# The model is guessing house prices randomly, which is why MAE is so large.\n",
        "# In short, bad model\n"
      ],
      "metadata": {
        "colab": {
          "base_uri": "https://localhost:8080/"
        },
        "id": "9eYpn3uLmKB9",
        "outputId": "5398f00b-8cac-4c1e-f4cf-b6fa1a82a73b"
      },
      "execution_count": null,
      "outputs": [
        {
          "output_type": "stream",
          "name": "stdout",
          "text": [
            "Epoch 1/20\n",
            "\u001b[1m32/32\u001b[0m \u001b[32m━━━━━━━━━━━━━━━━━━━━\u001b[0m\u001b[37m\u001b[0m \u001b[1m1s\u001b[0m 3ms/step - loss: 84982595584.0000 - mae: 252982.5938\n",
            "Epoch 2/20\n",
            "\u001b[1m32/32\u001b[0m \u001b[32m━━━━━━━━━━━━━━━━━━━━\u001b[0m\u001b[37m\u001b[0m \u001b[1m0s\u001b[0m 3ms/step - loss: 85918089216.0000 - mae: 257775.4688\n",
            "Epoch 3/20\n",
            "\u001b[1m32/32\u001b[0m \u001b[32m━━━━━━━━━━━━━━━━━━━━\u001b[0m\u001b[37m\u001b[0m \u001b[1m0s\u001b[0m 3ms/step - loss: 83887521792.0000 - mae: 250283.1250\n",
            "Epoch 4/20\n",
            "\u001b[1m32/32\u001b[0m \u001b[32m━━━━━━━━━━━━━━━━━━━━\u001b[0m\u001b[37m\u001b[0m \u001b[1m0s\u001b[0m 2ms/step - loss: 83676422144.0000 - mae: 253247.4062\n",
            "Epoch 5/20\n",
            "\u001b[1m32/32\u001b[0m \u001b[32m━━━━━━━━━━━━━━━━━━━━\u001b[0m\u001b[37m\u001b[0m \u001b[1m0s\u001b[0m 3ms/step - loss: 87043252224.0000 - mae: 258080.7812\n",
            "Epoch 6/20\n",
            "\u001b[1m32/32\u001b[0m \u001b[32m━━━━━━━━━━━━━━━━━━━━\u001b[0m\u001b[37m\u001b[0m \u001b[1m0s\u001b[0m 3ms/step - loss: 84063567872.0000 - mae: 251758.5312\n",
            "Epoch 7/20\n",
            "\u001b[1m32/32\u001b[0m \u001b[32m━━━━━━━━━━━━━━━━━━━━\u001b[0m\u001b[37m\u001b[0m \u001b[1m0s\u001b[0m 4ms/step - loss: 86645383168.0000 - mae: 258333.1250\n",
            "Epoch 8/20\n",
            "\u001b[1m32/32\u001b[0m \u001b[32m━━━━━━━━━━━━━━━━━━━━\u001b[0m\u001b[37m\u001b[0m \u001b[1m0s\u001b[0m 3ms/step - loss: 84344872960.0000 - mae: 252910.8594\n",
            "Epoch 9/20\n",
            "\u001b[1m32/32\u001b[0m \u001b[32m━━━━━━━━━━━━━━━━━━━━\u001b[0m\u001b[37m\u001b[0m \u001b[1m0s\u001b[0m 3ms/step - loss: 81582153728.0000 - mae: 249218.9531\n",
            "Epoch 10/20\n",
            "\u001b[1m32/32\u001b[0m \u001b[32m━━━━━━━━━━━━━━━━━━━━\u001b[0m\u001b[37m\u001b[0m \u001b[1m0s\u001b[0m 3ms/step - loss: 83093266432.0000 - mae: 250086.0312\n",
            "Epoch 11/20\n",
            "\u001b[1m32/32\u001b[0m \u001b[32m━━━━━━━━━━━━━━━━━━━━\u001b[0m\u001b[37m\u001b[0m \u001b[1m0s\u001b[0m 3ms/step - loss: 84286971904.0000 - mae: 253834.1094\n",
            "Epoch 12/20\n",
            "\u001b[1m32/32\u001b[0m \u001b[32m━━━━━━━━━━━━━━━━━━━━\u001b[0m\u001b[37m\u001b[0m \u001b[1m0s\u001b[0m 3ms/step - loss: 82387640320.0000 - mae: 249973.8125\n",
            "Epoch 13/20\n",
            "\u001b[1m32/32\u001b[0m \u001b[32m━━━━━━━━━━━━━━━━━━━━\u001b[0m\u001b[37m\u001b[0m \u001b[1m0s\u001b[0m 3ms/step - loss: 84485226496.0000 - mae: 252327.4688\n",
            "Epoch 14/20\n",
            "\u001b[1m32/32\u001b[0m \u001b[32m━━━━━━━━━━━━━━━━━━━━\u001b[0m\u001b[37m\u001b[0m \u001b[1m0s\u001b[0m 4ms/step - loss: 84832567296.0000 - mae: 253103.5469\n",
            "Epoch 15/20\n",
            "\u001b[1m32/32\u001b[0m \u001b[32m━━━━━━━━━━━━━━━━━━━━\u001b[0m\u001b[37m\u001b[0m \u001b[1m0s\u001b[0m 3ms/step - loss: 84502724608.0000 - mae: 251472.6719\n",
            "Epoch 16/20\n",
            "\u001b[1m32/32\u001b[0m \u001b[32m━━━━━━━━━━━━━━━━━━━━\u001b[0m\u001b[37m\u001b[0m \u001b[1m0s\u001b[0m 4ms/step - loss: 84616978432.0000 - mae: 252456.7656\n",
            "Epoch 17/20\n",
            "\u001b[1m32/32\u001b[0m \u001b[32m━━━━━━━━━━━━━━━━━━━━\u001b[0m\u001b[37m\u001b[0m \u001b[1m0s\u001b[0m 3ms/step - loss: 84240039936.0000 - mae: 251699.8906\n",
            "Epoch 18/20\n",
            "\u001b[1m32/32\u001b[0m \u001b[32m━━━━━━━━━━━━━━━━━━━━\u001b[0m\u001b[37m\u001b[0m \u001b[1m0s\u001b[0m 3ms/step - loss: 79375851520.0000 - mae: 242536.5156\n",
            "Epoch 19/20\n",
            "\u001b[1m32/32\u001b[0m \u001b[32m━━━━━━━━━━━━━━━━━━━━\u001b[0m\u001b[37m\u001b[0m \u001b[1m0s\u001b[0m 3ms/step - loss: 80856276992.0000 - mae: 245098.0781\n",
            "Epoch 20/20\n",
            "\u001b[1m32/32\u001b[0m \u001b[32m━━━━━━━━━━━━━━━━━━━━\u001b[0m\u001b[37m\u001b[0m \u001b[1m0s\u001b[0m 3ms/step - loss: 83364708352.0000 - mae: 251143.7969\n",
            "\u001b[1m7/7\u001b[0m \u001b[32m━━━━━━━━━━━━━━━━━━━━\u001b[0m\u001b[37m\u001b[0m \u001b[1m0s\u001b[0m 6ms/step - loss: 82776539136.0000 - mae: 242883.7812  \n",
            " Test MAE:$234276.36\n",
            "\u001b[1m1/1\u001b[0m \u001b[32m━━━━━━━━━━━━━━━━━━━━\u001b[0m\u001b[37m\u001b[0m \u001b[1m0s\u001b[0m 74ms/step\n",
            "Predicted Price for Random Sample: $11829.20\n"
          ]
        }
      ]
    },
    {
      "cell_type": "markdown",
      "source": [
        "## Synthetic dataset and Normalization\n"
      ],
      "metadata": {
        "id": "1YQnbKoswXGC"
      }
    },
    {
      "cell_type": "code",
      "source": [
        "import numpy as np\n",
        "import tensorflow as ty\n",
        "from tensorflow.keras import layers,models\n",
        "\n",
        "# Generate synthetic dataset (1000 samples, 10 features) in [0,1] range\n",
        "np.random.seed(42)\n",
        "X_train = np.random.rand(1000,10)\n",
        "y_train = np.random.rand(1000) # Target values in range 0-1\n",
        "\n",
        "X_test = np.random.rand(200,10)\n",
        "y_test = np.random.rand(200)\n",
        "\n",
        "# Create a model\n",
        "model = models.Sequential([\n",
        "    layers.Dense(64,activation='relu',input_shape=(10,)),\n",
        "    layers.Dense(32,activation='relu'),\n",
        "    layers.Dense(1) # Output\n",
        "])\n",
        "\n",
        "# Compile model\n",
        "model.compile(optimizer='adam',loss='mse',metrics=['mae'])\n",
        "# Train the model\n",
        "model.fit(X_train,y_train,epochs=20,batch_size=32,verbose=1)\n",
        "# Evaluate the model\n",
        "test_loss,test_mae = model.evaluate(X_test,y_test)\n",
        "print(f'Test MAE (Normalized): {test_mae:.4f}')\n",
        "# Predict a sample pricing\n",
        "sample_input = np.random.rand(1,10)\n",
        "sample_prediction = model(sample_input)\n",
        "print(f'Predicted Housing Price (Normalized) : {sample_prediction[0][0]:.4f}')\n",
        "# This is again a bad model because we are still training on random values (just normalised values)"
      ],
      "metadata": {
        "colab": {
          "base_uri": "https://localhost:8080/"
        },
        "id": "p8x3UXyiwYr7",
        "outputId": "04350569-0010-447c-c1f6-23ec53cd8cbd"
      },
      "execution_count": null,
      "outputs": [
        {
          "output_type": "stream",
          "name": "stdout",
          "text": [
            "Epoch 1/20\n",
            "\u001b[1m32/32\u001b[0m \u001b[32m━━━━━━━━━━━━━━━━━━━━\u001b[0m\u001b[37m\u001b[0m \u001b[1m1s\u001b[0m 3ms/step - loss: 0.3306 - mae: 0.4816\n",
            "Epoch 2/20\n",
            "\u001b[1m32/32\u001b[0m \u001b[32m━━━━━━━━━━━━━━━━━━━━\u001b[0m\u001b[37m\u001b[0m \u001b[1m0s\u001b[0m 4ms/step - loss: 0.0903 - mae: 0.2535\n",
            "Epoch 3/20\n",
            "\u001b[1m32/32\u001b[0m \u001b[32m━━━━━━━━━━━━━━━━━━━━\u001b[0m\u001b[37m\u001b[0m \u001b[1m0s\u001b[0m 6ms/step - loss: 0.0859 - mae: 0.2503\n",
            "Epoch 4/20\n",
            "\u001b[1m32/32\u001b[0m \u001b[32m━━━━━━━━━━━━━━━━━━━━\u001b[0m\u001b[37m\u001b[0m \u001b[1m0s\u001b[0m 6ms/step - loss: 0.0871 - mae: 0.2528\n",
            "Epoch 5/20\n",
            "\u001b[1m32/32\u001b[0m \u001b[32m━━━━━━━━━━━━━━━━━━━━\u001b[0m\u001b[37m\u001b[0m \u001b[1m0s\u001b[0m 5ms/step - loss: 0.0807 - mae: 0.2433\n",
            "Epoch 6/20\n",
            "\u001b[1m32/32\u001b[0m \u001b[32m━━━━━━━━━━━━━━━━━━━━\u001b[0m\u001b[37m\u001b[0m \u001b[1m0s\u001b[0m 5ms/step - loss: 0.0857 - mae: 0.2521\n",
            "Epoch 7/20\n",
            "\u001b[1m32/32\u001b[0m \u001b[32m━━━━━━━━━━━━━━━━━━━━\u001b[0m\u001b[37m\u001b[0m \u001b[1m0s\u001b[0m 6ms/step - loss: 0.0852 - mae: 0.2528\n",
            "Epoch 8/20\n",
            "\u001b[1m32/32\u001b[0m \u001b[32m━━━━━━━━━━━━━━━━━━━━\u001b[0m\u001b[37m\u001b[0m \u001b[1m0s\u001b[0m 6ms/step - loss: 0.0825 - mae: 0.2465\n",
            "Epoch 9/20\n",
            "\u001b[1m32/32\u001b[0m \u001b[32m━━━━━━━━━━━━━━━━━━━━\u001b[0m\u001b[37m\u001b[0m \u001b[1m0s\u001b[0m 6ms/step - loss: 0.0812 - mae: 0.2446\n",
            "Epoch 10/20\n",
            "\u001b[1m32/32\u001b[0m \u001b[32m━━━━━━━━━━━━━━━━━━━━\u001b[0m\u001b[37m\u001b[0m \u001b[1m0s\u001b[0m 5ms/step - loss: 0.0806 - mae: 0.2449\n",
            "Epoch 11/20\n",
            "\u001b[1m32/32\u001b[0m \u001b[32m━━━━━━━━━━━━━━━━━━━━\u001b[0m\u001b[37m\u001b[0m \u001b[1m0s\u001b[0m 3ms/step - loss: 0.0802 - mae: 0.2434\n",
            "Epoch 12/20\n",
            "\u001b[1m32/32\u001b[0m \u001b[32m━━━━━━━━━━━━━━━━━━━━\u001b[0m\u001b[37m\u001b[0m \u001b[1m0s\u001b[0m 4ms/step - loss: 0.0769 - mae: 0.2381\n",
            "Epoch 13/20\n",
            "\u001b[1m32/32\u001b[0m \u001b[32m━━━━━━━━━━━━━━━━━━━━\u001b[0m\u001b[37m\u001b[0m \u001b[1m0s\u001b[0m 3ms/step - loss: 0.0770 - mae: 0.2359\n",
            "Epoch 14/20\n",
            "\u001b[1m32/32\u001b[0m \u001b[32m━━━━━━━━━━━━━━━━━━━━\u001b[0m\u001b[37m\u001b[0m \u001b[1m0s\u001b[0m 3ms/step - loss: 0.0809 - mae: 0.2443\n",
            "Epoch 15/20\n",
            "\u001b[1m32/32\u001b[0m \u001b[32m━━━━━━━━━━━━━━━━━━━━\u001b[0m\u001b[37m\u001b[0m \u001b[1m0s\u001b[0m 3ms/step - loss: 0.0768 - mae: 0.2382\n",
            "Epoch 16/20\n",
            "\u001b[1m32/32\u001b[0m \u001b[32m━━━━━━━━━━━━━━━━━━━━\u001b[0m\u001b[37m\u001b[0m \u001b[1m0s\u001b[0m 3ms/step - loss: 0.0767 - mae: 0.2363\n",
            "Epoch 17/20\n",
            "\u001b[1m32/32\u001b[0m \u001b[32m━━━━━━━━━━━━━━━━━━━━\u001b[0m\u001b[37m\u001b[0m \u001b[1m0s\u001b[0m 3ms/step - loss: 0.0754 - mae: 0.2320\n",
            "Epoch 18/20\n",
            "\u001b[1m32/32\u001b[0m \u001b[32m━━━━━━━━━━━━━━━━━━━━\u001b[0m\u001b[37m\u001b[0m \u001b[1m0s\u001b[0m 3ms/step - loss: 0.0727 - mae: 0.2298\n",
            "Epoch 19/20\n",
            "\u001b[1m32/32\u001b[0m \u001b[32m━━━━━━━━━━━━━━━━━━━━\u001b[0m\u001b[37m\u001b[0m \u001b[1m0s\u001b[0m 3ms/step - loss: 0.0760 - mae: 0.2355\n",
            "Epoch 20/20\n",
            "\u001b[1m32/32\u001b[0m \u001b[32m━━━━━━━━━━━━━━━━━━━━\u001b[0m\u001b[37m\u001b[0m \u001b[1m0s\u001b[0m 4ms/step - loss: 0.0719 - mae: 0.2279\n",
            "\u001b[1m7/7\u001b[0m \u001b[32m━━━━━━━━━━━━━━━━━━━━\u001b[0m\u001b[37m\u001b[0m \u001b[1m0s\u001b[0m 7ms/step - loss: 0.1020 - mae: 0.2739  \n",
            "Test MAE (Normalized): 0.2692\n",
            "Predicted Housing Price (Normalized) : 0.5387\n"
          ]
        }
      ]
    },
    {
      "cell_type": "markdown",
      "source": [
        "### Using Scikitlearn Dataset"
      ],
      "metadata": {
        "id": "DlJa1mLxTtfS"
      }
    },
    {
      "cell_type": "code",
      "source": [
        "\n",
        "# House Price Prediction (Regression) with Dataset\n",
        "import tensorflow as ty\n",
        "import numpy as np\n",
        "from tensorflow.keras import layers,models\n",
        "from sklearn.datasets import fetch_california_housing\n",
        "from sklearn.model_selection import train_test_split\n",
        "from sklearn.preprocessing import StandardScaler\n",
        "\n",
        "# Load California housing dataset\n",
        "data = fetch_california_housing()\n",
        "X,y = data.data,data.target  # Features and target (median house value in 100,000s)\n",
        "\n",
        "\n",
        "print(f\"Target Value Range (in 100,000s): Min = {y.min():.2f}, Max = {y.max():.2f}, Mean = {y.mean():.2f}\")\n",
        "\n",
        "# Split data into train and test sets\n",
        "X_train,X_test,y_train,y_test = train_test_split(X,y,test_size=0.2,random_state=42)\n",
        "print(f'X-shape {X_train.shape}')\n",
        "# Normalize features for better training stability - Z-Score Standardization / Standard scaling\n",
        "scaler = StandardScaler()\n",
        "X_train = scaler.fit_transform(X_train) # Compute mean & std from training data, then scale\n",
        "X_test = scaler.transform(X_test) # Use the same scaling parameters to transform test data\n",
        "\n",
        "# We use the same mean and standard deviation (computed from X_train) to scale X_test\n",
        "# This ensures that both training and test data follow the same distribution\n",
        "\n",
        "# If we include X_test when computing mean and standard deviation, the model gets information from the test set before training\n",
        "# This is called data leakage, which can lead to unrealistically good performance and poor generalization to new data\n",
        "# Test data should only be used for evaluation after the model is trained\n",
        "\n",
        "# In real-world applications, new data arrives after training. We do not get to recompute the mean and std for each new data point\n",
        "# The model should be able to handle unseen data using the same scaling applied during training\n",
        "\n",
        "# Build model\n",
        "model = models.Sequential([\n",
        "    layers.Dense(64,activation='relu',input_shape=(X_train.shape[1],)),\n",
        "    layers.Dense(32,activation='relu'),\n",
        "    layers.Dense(1)\n",
        "])\n",
        "\n",
        "# Compile the model\n",
        "model.compile(optimizer='adam',loss='mae',metrics=['mse'])\n",
        "\n",
        "# Fit the model\n",
        "model.fit(X_train,y_train,epochs=20,batch_size=32,verbose=1)\n",
        "\n",
        "# Evaluate the model\n",
        "test_loss,test_mae = model.evaluate(X_test,y_test)\n",
        "print(f'Test MAE: ${test_mae*100000:.2f}')\n",
        "\n",
        "# Make a prediction\n",
        "sample_input = np.expand_dims(X_test[0],axis=0) # adds a new axis (dimension) to a NumPy array. Specifically: X_test[0] is one single test example – it's a 1D array of features. np.expand_dims(X_test[0], axis=0) turns it into a batch of 1 (a 2D array).\n",
        "sample_prediction = model.predict(sample_input)\n",
        "print(f'Predicted Housing Price: ${sample_prediction[0][0]*100000:.2f}')\n"
      ],
      "metadata": {
        "colab": {
          "base_uri": "https://localhost:8080/"
        },
        "id": "aF0fbx_gT0-e",
        "outputId": "3b7d0672-7b6d-4ef1-bd83-cfa5cdb3f1ac"
      },
      "execution_count": 27,
      "outputs": [
        {
          "output_type": "stream",
          "name": "stdout",
          "text": [
            "Target Value Range (in 100,000s): Min = 0.15, Max = 5.00, Mean = 2.07\n",
            "X-shape (16512, 8)\n",
            "Epoch 1/20\n"
          ]
        },
        {
          "output_type": "stream",
          "name": "stderr",
          "text": [
            "/usr/local/lib/python3.11/dist-packages/keras/src/layers/core/dense.py:87: UserWarning: Do not pass an `input_shape`/`input_dim` argument to a layer. When using Sequential models, prefer using an `Input(shape)` object as the first layer in the model instead.\n",
            "  super().__init__(activity_regularizer=activity_regularizer, **kwargs)\n"
          ]
        },
        {
          "output_type": "stream",
          "name": "stdout",
          "text": [
            "\u001b[1m516/516\u001b[0m \u001b[32m━━━━━━━━━━━━━━━━━━━━\u001b[0m\u001b[37m\u001b[0m \u001b[1m3s\u001b[0m 3ms/step - loss: 0.8957 - mse: 1.7076\n",
            "Epoch 2/20\n",
            "\u001b[1m516/516\u001b[0m \u001b[32m━━━━━━━━━━━━━━━━━━━━\u001b[0m\u001b[37m\u001b[0m \u001b[1m2s\u001b[0m 2ms/step - loss: 0.4404 - mse: 0.4296\n",
            "Epoch 3/20\n",
            "\u001b[1m516/516\u001b[0m \u001b[32m━━━━━━━━━━━━━━━━━━━━\u001b[0m\u001b[37m\u001b[0m \u001b[1m1s\u001b[0m 2ms/step - loss: 0.4218 - mse: 0.3899\n",
            "Epoch 4/20\n",
            "\u001b[1m516/516\u001b[0m \u001b[32m━━━━━━━━━━━━━━━━━━━━\u001b[0m\u001b[37m\u001b[0m \u001b[1m1s\u001b[0m 2ms/step - loss: 0.4076 - mse: 0.3817\n",
            "Epoch 5/20\n",
            "\u001b[1m516/516\u001b[0m \u001b[32m━━━━━━━━━━━━━━━━━━━━\u001b[0m\u001b[37m\u001b[0m \u001b[1m1s\u001b[0m 2ms/step - loss: 0.3954 - mse: 0.3470\n",
            "Epoch 6/20\n",
            "\u001b[1m516/516\u001b[0m \u001b[32m━━━━━━━━━━━━━━━━━━━━\u001b[0m\u001b[37m\u001b[0m \u001b[1m1s\u001b[0m 2ms/step - loss: 0.3913 - mse: 0.3471\n",
            "Epoch 7/20\n",
            "\u001b[1m516/516\u001b[0m \u001b[32m━━━━━━━━━━━━━━━━━━━━\u001b[0m\u001b[37m\u001b[0m \u001b[1m1s\u001b[0m 2ms/step - loss: 0.3790 - mse: 0.3317\n",
            "Epoch 8/20\n",
            "\u001b[1m516/516\u001b[0m \u001b[32m━━━━━━━━━━━━━━━━━━━━\u001b[0m\u001b[37m\u001b[0m \u001b[1m1s\u001b[0m 2ms/step - loss: 0.3793 - mse: 0.3309\n",
            "Epoch 9/20\n",
            "\u001b[1m516/516\u001b[0m \u001b[32m━━━━━━━━━━━━━━━━━━━━\u001b[0m\u001b[37m\u001b[0m \u001b[1m1s\u001b[0m 2ms/step - loss: 0.3718 - mse: 0.3175\n",
            "Epoch 10/20\n",
            "\u001b[1m516/516\u001b[0m \u001b[32m━━━━━━━━━━━━━━━━━━━━\u001b[0m\u001b[37m\u001b[0m \u001b[1m1s\u001b[0m 3ms/step - loss: 0.3680 - mse: 0.3129\n",
            "Epoch 11/20\n",
            "\u001b[1m516/516\u001b[0m \u001b[32m━━━━━━━━━━━━━━━━━━━━\u001b[0m\u001b[37m\u001b[0m \u001b[1m2s\u001b[0m 2ms/step - loss: 0.3624 - mse: 0.3034\n",
            "Epoch 12/20\n",
            "\u001b[1m516/516\u001b[0m \u001b[32m━━━━━━━━━━━━━━━━━━━━\u001b[0m\u001b[37m\u001b[0m \u001b[1m1s\u001b[0m 2ms/step - loss: 0.3583 - mse: 0.2982\n",
            "Epoch 13/20\n",
            "\u001b[1m516/516\u001b[0m \u001b[32m━━━━━━━━━━━━━━━━━━━━\u001b[0m\u001b[37m\u001b[0m \u001b[1m1s\u001b[0m 2ms/step - loss: 0.3619 - mse: 0.3001\n",
            "Epoch 14/20\n",
            "\u001b[1m516/516\u001b[0m \u001b[32m━━━━━━━━━━━━━━━━━━━━\u001b[0m\u001b[37m\u001b[0m \u001b[1m1s\u001b[0m 2ms/step - loss: 0.3550 - mse: 0.2969\n",
            "Epoch 15/20\n",
            "\u001b[1m516/516\u001b[0m \u001b[32m━━━━━━━━━━━━━━━━━━━━\u001b[0m\u001b[37m\u001b[0m \u001b[1m1s\u001b[0m 2ms/step - loss: 0.3592 - mse: 0.3071\n",
            "Epoch 16/20\n",
            "\u001b[1m516/516\u001b[0m \u001b[32m━━━━━━━━━━━━━━━━━━━━\u001b[0m\u001b[37m\u001b[0m \u001b[1m1s\u001b[0m 2ms/step - loss: 0.3486 - mse: 0.2822\n",
            "Epoch 17/20\n",
            "\u001b[1m516/516\u001b[0m \u001b[32m━━━━━━━━━━━━━━━━━━━━\u001b[0m\u001b[37m\u001b[0m \u001b[1m1s\u001b[0m 2ms/step - loss: 0.3486 - mse: 0.2878\n",
            "Epoch 18/20\n",
            "\u001b[1m516/516\u001b[0m \u001b[32m━━━━━━━━━━━━━━━━━━━━\u001b[0m\u001b[37m\u001b[0m \u001b[1m1s\u001b[0m 2ms/step - loss: 0.3527 - mse: 0.2926\n",
            "Epoch 19/20\n",
            "\u001b[1m516/516\u001b[0m \u001b[32m━━━━━━━━━━━━━━━━━━━━\u001b[0m\u001b[37m\u001b[0m \u001b[1m2s\u001b[0m 3ms/step - loss: 0.3483 - mse: 0.2901\n",
            "Epoch 20/20\n",
            "\u001b[1m516/516\u001b[0m \u001b[32m━━━━━━━━━━━━━━━━━━━━\u001b[0m\u001b[37m\u001b[0m \u001b[1m2s\u001b[0m 2ms/step - loss: 0.3416 - mse: 0.2744\n",
            "\u001b[1m129/129\u001b[0m \u001b[32m━━━━━━━━━━━━━━━━━━━━\u001b[0m\u001b[37m\u001b[0m \u001b[1m0s\u001b[0m 2ms/step - loss: 0.3557 - mse: 0.2874\n",
            "Test MAE: $29967.00\n",
            "\u001b[1m1/1\u001b[0m \u001b[32m━━━━━━━━━━━━━━━━━━━━\u001b[0m\u001b[37m\u001b[0m \u001b[1m0s\u001b[0m 77ms/step\n",
            "Predicted Housing Price: $50299.28\n"
          ]
        }
      ]
    },
    {
      "cell_type": "markdown",
      "source": [
        "## Example 2 - Sentiment Analysis (Binary Classification)"
      ],
      "metadata": {
        "id": "17iP2-O01Io7"
      }
    },
    {
      "cell_type": "markdown",
      "source": [
        "### Without Embedding Layer"
      ],
      "metadata": {
        "id": "CvEBq1RP1Ur4"
      }
    },
    {
      "cell_type": "code",
      "source": [
        "# Example 2 - Sentiment Analysis (Binary Classification) - Without Embedding Layer\n",
        "# Classify whether a review is positive or negative\n",
        "\n",
        "import tensorflow as tf\n",
        "import numpy as np\n",
        "from tensorflow.keras import layers,models\n",
        "\n",
        "(X_train,y_train),(X_test,y_test) = tf.keras.datasets.imdb.load_data(num_words=10000) # num_words -->  Only keep the top 10,000 most frequent words in the dataset\n",
        "\n",
        "# IMDB reviews have different lengths, but Dense expects a fixed number of neurons\n",
        "# We are ensuring every input is exactly 200 words.\n",
        "\n",
        "# Pad sequences to ensure fixed-length inputs\n",
        "\n",
        "from tensorflow.keras.preprocessing.sequence import pad_sequences\n",
        "X_train = pad_sequences(X_train,maxlen=200)\n",
        "X_test = pad_sequences(X_test,maxlen=200)\n",
        "print(f'X-shape {X_train.shape}')\n",
        "# Craete a model\n",
        "model = models.Sequential([\n",
        "    layers.Dense(128,activation='relu',input_shape=(200,)),\n",
        "    layers.Dense(64,activation='relu'),\n",
        "    layers.Dense(1,activation='sigmoid') # Output layer with sigmoid activation for binary classification\n",
        "])\n",
        "\n",
        "# Compile the model\n",
        "model.compile(optimizer='adam', loss='binary_crossentropy', metrics=['accuracy'])\n",
        "\n",
        "# Train the model\n",
        "model.fit(X_train,y_train,epochs=5,batch_size=512)\n",
        "\n",
        "# Evaluate the model\n",
        "test_loss,test_accuracy = model.evaluate(X_test,y_test)\n",
        "print(f'Test Accuracy: {test_accuracy*100:.2f}%')\n",
        "\n",
        "# Prediction\n",
        "sample_prediction = model.predict(X_test[0:1])\n",
        "print('Predicted Sentiments','Positive' if sample_prediction[0][0] > 0.5 else 'Negative')\n",
        "\n"
      ],
      "metadata": {
        "colab": {
          "base_uri": "https://localhost:8080/"
        },
        "id": "hE42_Ico1Ykg",
        "outputId": "a6619b6b-9d38-4508-8d6d-7b06b7ef6f5a"
      },
      "execution_count": 28,
      "outputs": [
        {
          "output_type": "stream",
          "name": "stdout",
          "text": [
            "X-shape (25000, 200)\n",
            "Epoch 1/5\n",
            "\u001b[1m49/49\u001b[0m \u001b[32m━━━━━━━━━━━━━━━━━━━━\u001b[0m\u001b[37m\u001b[0m \u001b[1m2s\u001b[0m 6ms/step - accuracy: 0.5091 - loss: 226.6496\n",
            "Epoch 2/5\n",
            "\u001b[1m49/49\u001b[0m \u001b[32m━━━━━━━━━━━━━━━━━━━━\u001b[0m\u001b[37m\u001b[0m \u001b[1m1s\u001b[0m 5ms/step - accuracy: 0.5251 - loss: 60.9238\n",
            "Epoch 3/5\n",
            "\u001b[1m49/49\u001b[0m \u001b[32m━━━━━━━━━━━━━━━━━━━━\u001b[0m\u001b[37m\u001b[0m \u001b[1m0s\u001b[0m 6ms/step - accuracy: 0.5498 - loss: 36.4117\n",
            "Epoch 4/5\n",
            "\u001b[1m49/49\u001b[0m \u001b[32m━━━━━━━━━━━━━━━━━━━━\u001b[0m\u001b[37m\u001b[0m \u001b[1m0s\u001b[0m 5ms/step - accuracy: 0.5697 - loss: 23.4961\n",
            "Epoch 5/5\n",
            "\u001b[1m49/49\u001b[0m \u001b[32m━━━━━━━━━━━━━━━━━━━━\u001b[0m\u001b[37m\u001b[0m \u001b[1m0s\u001b[0m 5ms/step - accuracy: 0.5919 - loss: 16.4156\n",
            "\u001b[1m782/782\u001b[0m \u001b[32m━━━━━━━━━━━━━━━━━━━━\u001b[0m\u001b[37m\u001b[0m \u001b[1m2s\u001b[0m 3ms/step - accuracy: 0.5031 - loss: 22.8342\n",
            "Test Accuracy: 50.58%\n",
            "\u001b[1m1/1\u001b[0m \u001b[32m━━━━━━━━━━━━━━━━━━━━\u001b[0m\u001b[37m\u001b[0m \u001b[1m0s\u001b[0m 76ms/step\n",
            "Predicted Sentiments Positive\n"
          ]
        }
      ]
    },
    {
      "cell_type": "markdown",
      "source": [
        "### With Embedding Layer\n"
      ],
      "metadata": {
        "id": "aL8WM_MrTeWn"
      }
    },
    {
      "cell_type": "markdown",
      "source": [
        "The `Embedding` layer **transforms integer word indices into dense vector representations**.\n",
        "\n",
        "### **Word Index Representation (Before Embedding)**\n",
        "In the IMDB dataset, words are represented as **integer indices** based on their frequency in the dataset.  \n",
        "For example, a movie review:  \n",
        "\n",
        "**Original Sentence:**  \n",
        "*\"The movie was amazing, I loved it!\"*  \n",
        "\n",
        "**Tokenized & Indexed Representation:**  \n",
        "```python\n",
        "[10, 482, 21, 345, 7, 99, 4]\n",
        "```\n",
        "Here:  \n",
        "- `10` → \"The\"  \n",
        "- `482` → \"movie\"  \n",
        "- `21` → \"was\"  \n",
        "- `345` → \"amazing\"  \n",
        "- `7` → \"I\"  \n",
        "- `99` → \"loved\"  \n",
        "- `4` → \"it\"  \n",
        "\n",
        "👉 The model **does not understand the meaning** of these numbers. It only sees them as integers.\n",
        "\n",
        "---\n",
        "\n",
        "### **What Embedding Does**\n",
        "Instead of treating `10`, `482`, `21`, etc., as just numbers, an **embedding layer** converts each of them into a **dense vector** of real numbers.  \n",
        "\n",
        "```python\n",
        "layers.Embedding(input_dim=10000, output_dim=128, input_length=200)\n",
        "```\n",
        "- **`input_dim=10000`** → Vocabulary size (top 10,000 words)  \n",
        "- **`output_dim=128`** → Each word index gets mapped to a **128-dimensional vector**  \n",
        "- **`input_length=200`** → Each review is padded to 200 words  \n",
        "\n",
        "For example, the word index `10` (which represents \"The\") might be mapped to:  \n",
        "```python\n",
        "[0.12, -0.25, 0.78, ..., 0.05]  # A 128-dimensional vector\n",
        "```\n",
        "Each word in the sentence gets a similar vector.\n",
        "\n",
        "---\n",
        "\n",
        "### **Why Is This Useful?**\n",
        "- **Captures Word Meaning** → Similar words will have similar vectors.  \n",
        "- **Avoids Numeric Misinterpretation** → Without embeddings, the model might think `99 > 10`, which makes no sense for words.  \n",
        "- **Enables Word Relationships** → Words like `\"king\"` and `\"queen\"` will have similar embeddings.  \n",
        "\n",
        "---\n",
        "\n",
        "### **Example: Before vs After Embedding**\n",
        "**Before Embedding (Word Indices)**  \n",
        "```python\n",
        "[10, 482, 21, 345, 7, 99, 4]  # Just numbers\n",
        "```\n",
        "\n",
        "**After Embedding (Word Vectors, Each of Size 128)**  \n",
        "```python\n",
        "[\n",
        "  [0.12, -0.25, 0.78, ..., 0.05],   # Word 10\n",
        "  [0.34, 0.67, -0.12, ..., -0.89],  # Word 482\n",
        "  [0.08, 0.15, -0.32, ..., 0.40],   # Word 21\n",
        "  ...\n",
        "]\n",
        "```\n",
        "Each word now has a **dense vector representation** that captures its meaning.  "
      ],
      "metadata": {
        "id": "8BXCfviLJqtQ"
      }
    },
    {
      "cell_type": "code",
      "source": [
        "# Example 2 - Sentiment Analysis (Binary Classification) - With Embedding Layer\n",
        "\n",
        "import tensorflow as tf\n",
        "from tensorflow.keras import layers,models\n",
        "\n",
        "(X_train,y_train),(X_test,y_test) = tf.keras.datasets.imdb.load_data(num_words=10000)\n",
        "# Pad sequences to ensure fixed-length inputs\n",
        "from tensorflow.keras.preprocessing.sequence import pad_sequences\n",
        "X_train = pad_sequences(X_train,maxlen=200)\n",
        "X_test = pad_sequences(X_test,maxlen=200)\n",
        "\n",
        "# Build model using only Dense layers with an Embedding layer\n",
        "model = models.Sequential([\n",
        "    layers.Embedding(input_dim=10000,output_dim=128,input_length=200), # Converts word indices to vectors\n",
        "    layers.Flatten(),   # Flatten embeddings into a 1D vector\n",
        "    layers.Dense(128,activation='relu'),\n",
        "    layers.Dense(64,activation='relu'),\n",
        "    layers.Dense(1,activation='sigmoid') # Binary classification\n",
        "\n",
        "])\n",
        "\n",
        "# Compile the model\n",
        "model.compile(optimizer='adam',loss='binary_crossentropy',metrics=['accuracy'])\n",
        "\n",
        "# Train the model\n",
        "model.fit(X_train,y_train,epochs=5,batch_size=512)\n",
        "\n",
        "# Evaluate model\n",
        "test_loss, test_accuracy = model.evaluate(X_test, y_test)\n",
        "print(f'Test accuracy: {test_accuracy * 100:.2f}%')"
      ],
      "metadata": {
        "colab": {
          "base_uri": "https://localhost:8080/"
        },
        "id": "OVPZyKisT7GZ",
        "outputId": "f5f433b0-2e8a-4764-ce24-5831868f7805"
      },
      "execution_count": 30,
      "outputs": [
        {
          "output_type": "stream",
          "name": "stdout",
          "text": [
            "Epoch 1/5\n",
            "\u001b[1m49/49\u001b[0m \u001b[32m━━━━━━━━━━━━━━━━━━━━\u001b[0m\u001b[37m\u001b[0m \u001b[1m21s\u001b[0m 386ms/step - accuracy: 0.5940 - loss: 0.6460\n",
            "Epoch 2/5\n",
            "\u001b[1m49/49\u001b[0m \u001b[32m━━━━━━━━━━━━━━━━━━━━\u001b[0m\u001b[37m\u001b[0m \u001b[1m23s\u001b[0m 464ms/step - accuracy: 0.9221 - loss: 0.2038\n",
            "Epoch 3/5\n",
            "\u001b[1m49/49\u001b[0m \u001b[32m━━━━━━━━━━━━━━━━━━━━\u001b[0m\u001b[37m\u001b[0m \u001b[1m20s\u001b[0m 415ms/step - accuracy: 0.9927 - loss: 0.0392\n",
            "Epoch 4/5\n",
            "\u001b[1m49/49\u001b[0m \u001b[32m━━━━━━━━━━━━━━━━━━━━\u001b[0m\u001b[37m\u001b[0m \u001b[1m17s\u001b[0m 351ms/step - accuracy: 0.9993 - loss: 0.0064\n",
            "Epoch 5/5\n",
            "\u001b[1m49/49\u001b[0m \u001b[32m━━━━━━━━━━━━━━━━━━━━\u001b[0m\u001b[37m\u001b[0m \u001b[1m18s\u001b[0m 376ms/step - accuracy: 0.9999 - loss: 0.0013\n",
            "\u001b[1m782/782\u001b[0m \u001b[32m━━━━━━━━━━━━━━━━━━━━\u001b[0m\u001b[37m\u001b[0m \u001b[1m6s\u001b[0m 8ms/step - accuracy: 0.8478 - loss: 0.5271\n",
            "Test accuracy: 85.03%\n"
          ]
        }
      ]
    },
    {
      "cell_type": "markdown",
      "source": [
        "## Example 3 - Breast Cancer Prediction (Binary Classification)"
      ],
      "metadata": {
        "id": "NjiiHWhLZ4qC"
      }
    },
    {
      "cell_type": "code",
      "source": [
        "# The Breast Cancer dataset from Scikit-Learn contains 569 samples with 30 numerical features extracted\n",
        "# from digitized images of breast mass tumors. The goal is to classify tumors as malignant (1) or benign (0)\n",
        "# based on these features. The dataset was originally curated from the Wisconsin Diagnostic Breast Cancer (WDBC)\n",
        "# dataset and is commonly used for binary classification tasks in machine learning.\n",
        "\n",
        "import numpy as np\n",
        "import tensorflow as tf\n",
        "from tensorflow.keras import layers,models\n",
        "from sklearn.datasets import load_breast_cancer\n",
        "from sklearn.model_selection import train_test_split\n",
        "from sklearn.preprocessing import StandardScaler\n",
        "import matplotlib.pyplot as plt\n",
        "\n",
        "# Load dataset\n",
        "data = load_breast_cancer()\n",
        "X,y = data.data,data.target\n",
        "\n",
        "# Split into training and test sets\n",
        "X_train,X_test,y_train,y_test = train_test_split(X,y,test_size=0.2,random_state=42)\n",
        "\n",
        "# Normalize features\n",
        "scaler = StandardScaler()\n",
        "X_train = scaler.fit_transform(X_train)\n",
        "X_test = scaler.transform(X_test)\n",
        "print(X_train.shape)\n",
        "# Create model\n",
        "model = models.Sequential([\n",
        "    layers.Dense(64,activation='relu',input_shape=(X_train.shape[1],)),\n",
        "    layers.Dense(32,activation='relu'),\n",
        "    layers.Dense(1,activation='sigmoid') # Binary classification\n",
        "])\n",
        "# Compile model\n",
        "model.compile(optimizer='adam',loss='binary_crossentropy',metrics=['accuracy'])\n",
        "# Train model\n",
        "history = model.fit(X_train,y_train,epochs=20,batch_size=32,validation_data=(X_test,y_test))  # using test set as validation during training Monitor validation loss/accuracy on X_test, y_test each epoch. Returns history.history['val_loss'], history.history['val_accuracy'].\n",
        "#Evaluate model\n",
        "test_loss,test_Accuracy = model.evaluate(X_test,y_test)\n",
        "print(f'Test Accuracy: {test_Accuracy*100:.2f}%')\n",
        "print(history.history.keys())\n",
        "# Plot accuracy and loss using Matplotlib\n",
        "plt.figure(figsize=(12,4))\n",
        "plt.subplot(1,2,1)  # telling Matplotlib how to organize multiple plots in a single figure plt.subplot(nrows, ncols, index)\n",
        "plt.plot(history.history['accuracy'],label='Training accuracy')\n",
        "plt.plot(history.history['val_accuracy'],label='Validation accuracy')\n",
        "plt.xlabel('Epochs')\n",
        "plt.ylabel('Accuracy')\n",
        "plt.legend()\n",
        "plt.title('Training and Validation Accuracy')\n",
        "\n",
        "plt.subplot(1,2,2)\n",
        "plt.plot(history.history['loss'],label='Training loss')\n",
        "plt.plot(history.history['val_loss'],label='Validation loss')\n",
        "plt.xlabel('Epochs')\n",
        "plt.ylabel('Loss')\n",
        "plt.legend()\n",
        "plt.title('Training and Validation Loss')\n",
        "\n",
        "plt.show()\n"
      ],
      "metadata": {
        "colab": {
          "base_uri": "https://localhost:8080/",
          "height": 1000
        },
        "id": "GGqVZ0pQZ8Gw",
        "outputId": "7372339b-2d31-4751-b315-184f4eb94919"
      },
      "execution_count": 12,
      "outputs": [
        {
          "output_type": "stream",
          "name": "stdout",
          "text": [
            "(455, 30)\n"
          ]
        },
        {
          "output_type": "stream",
          "name": "stderr",
          "text": [
            "/usr/local/lib/python3.11/dist-packages/keras/src/layers/core/dense.py:87: UserWarning: Do not pass an `input_shape`/`input_dim` argument to a layer. When using Sequential models, prefer using an `Input(shape)` object as the first layer in the model instead.\n",
            "  super().__init__(activity_regularizer=activity_regularizer, **kwargs)\n"
          ]
        },
        {
          "output_type": "stream",
          "name": "stdout",
          "text": [
            "Epoch 1/20\n",
            "\u001b[1m15/15\u001b[0m \u001b[32m━━━━━━━━━━━━━━━━━━━━\u001b[0m\u001b[37m\u001b[0m \u001b[1m3s\u001b[0m 23ms/step - accuracy: 0.5915 - loss: 0.6707 - val_accuracy: 0.9649 - val_loss: 0.3407\n",
            "Epoch 2/20\n",
            "\u001b[1m15/15\u001b[0m \u001b[32m━━━━━━━━━━━━━━━━━━━━\u001b[0m\u001b[37m\u001b[0m \u001b[1m0s\u001b[0m 7ms/step - accuracy: 0.9282 - loss: 0.3213 - val_accuracy: 0.9737 - val_loss: 0.1905\n",
            "Epoch 3/20\n",
            "\u001b[1m15/15\u001b[0m \u001b[32m━━━━━━━━━━━━━━━━━━━━\u001b[0m\u001b[37m\u001b[0m \u001b[1m0s\u001b[0m 7ms/step - accuracy: 0.9603 - loss: 0.1950 - val_accuracy: 0.9825 - val_loss: 0.1254\n",
            "Epoch 4/20\n",
            "\u001b[1m15/15\u001b[0m \u001b[32m━━━━━━━━━━━━━━━━━━━━\u001b[0m\u001b[37m\u001b[0m \u001b[1m0s\u001b[0m 9ms/step - accuracy: 0.9574 - loss: 0.1478 - val_accuracy: 0.9912 - val_loss: 0.0941\n",
            "Epoch 5/20\n",
            "\u001b[1m15/15\u001b[0m \u001b[32m━━━━━━━━━━━━━━━━━━━━\u001b[0m\u001b[37m\u001b[0m \u001b[1m0s\u001b[0m 7ms/step - accuracy: 0.9657 - loss: 0.1141 - val_accuracy: 0.9825 - val_loss: 0.0768\n",
            "Epoch 6/20\n",
            "\u001b[1m15/15\u001b[0m \u001b[32m━━━━━━━━━━━━━━━━━━━━\u001b[0m\u001b[37m\u001b[0m \u001b[1m0s\u001b[0m 10ms/step - accuracy: 0.9803 - loss: 0.0932 - val_accuracy: 0.9825 - val_loss: 0.0681\n",
            "Epoch 7/20\n",
            "\u001b[1m15/15\u001b[0m \u001b[32m━━━━━━━━━━━━━━━━━━━━\u001b[0m\u001b[37m\u001b[0m \u001b[1m0s\u001b[0m 10ms/step - accuracy: 0.9801 - loss: 0.0739 - val_accuracy: 0.9825 - val_loss: 0.0656\n",
            "Epoch 8/20\n",
            "\u001b[1m15/15\u001b[0m \u001b[32m━━━━━━━━━━━━━━━━━━━━\u001b[0m\u001b[37m\u001b[0m \u001b[1m0s\u001b[0m 7ms/step - accuracy: 0.9750 - loss: 0.0821 - val_accuracy: 0.9912 - val_loss: 0.0609\n",
            "Epoch 9/20\n",
            "\u001b[1m15/15\u001b[0m \u001b[32m━━━━━━━━━━━━━━━━━━━━\u001b[0m\u001b[37m\u001b[0m \u001b[1m0s\u001b[0m 7ms/step - accuracy: 0.9738 - loss: 0.0723 - val_accuracy: 0.9912 - val_loss: 0.0566\n",
            "Epoch 10/20\n",
            "\u001b[1m15/15\u001b[0m \u001b[32m━━━━━━━━━━━━━━━━━━━━\u001b[0m\u001b[37m\u001b[0m \u001b[1m0s\u001b[0m 9ms/step - accuracy: 0.9867 - loss: 0.0566 - val_accuracy: 0.9912 - val_loss: 0.0549\n",
            "Epoch 11/20\n",
            "\u001b[1m15/15\u001b[0m \u001b[32m━━━━━━━━━━━━━━━━━━━━\u001b[0m\u001b[37m\u001b[0m \u001b[1m0s\u001b[0m 10ms/step - accuracy: 0.9792 - loss: 0.0681 - val_accuracy: 0.9912 - val_loss: 0.0526\n",
            "Epoch 12/20\n",
            "\u001b[1m15/15\u001b[0m \u001b[32m━━━━━━━━━━━━━━━━━━━━\u001b[0m\u001b[37m\u001b[0m \u001b[1m0s\u001b[0m 7ms/step - accuracy: 0.9930 - loss: 0.0399 - val_accuracy: 0.9912 - val_loss: 0.0512\n",
            "Epoch 13/20\n",
            "\u001b[1m15/15\u001b[0m \u001b[32m━━━━━━━━━━━━━━━━━━━━\u001b[0m\u001b[37m\u001b[0m \u001b[1m0s\u001b[0m 7ms/step - accuracy: 0.9931 - loss: 0.0369 - val_accuracy: 0.9912 - val_loss: 0.0517\n",
            "Epoch 14/20\n",
            "\u001b[1m15/15\u001b[0m \u001b[32m━━━━━━━━━━━━━━━━━━━━\u001b[0m\u001b[37m\u001b[0m \u001b[1m0s\u001b[0m 10ms/step - accuracy: 0.9882 - loss: 0.0417 - val_accuracy: 0.9912 - val_loss: 0.0501\n",
            "Epoch 15/20\n",
            "\u001b[1m15/15\u001b[0m \u001b[32m━━━━━━━━━━━━━━━━━━━━\u001b[0m\u001b[37m\u001b[0m \u001b[1m0s\u001b[0m 10ms/step - accuracy: 0.9818 - loss: 0.0448 - val_accuracy: 0.9912 - val_loss: 0.0499\n",
            "Epoch 16/20\n",
            "\u001b[1m15/15\u001b[0m \u001b[32m━━━━━━━━━━━━━━━━━━━━\u001b[0m\u001b[37m\u001b[0m \u001b[1m0s\u001b[0m 12ms/step - accuracy: 0.9882 - loss: 0.0458 - val_accuracy: 0.9912 - val_loss: 0.0514\n",
            "Epoch 17/20\n",
            "\u001b[1m15/15\u001b[0m \u001b[32m━━━━━━━━━━━━━━━━━━━━\u001b[0m\u001b[37m\u001b[0m \u001b[1m0s\u001b[0m 9ms/step - accuracy: 0.9917 - loss: 0.0428 - val_accuracy: 0.9912 - val_loss: 0.0508\n",
            "Epoch 18/20\n",
            "\u001b[1m15/15\u001b[0m \u001b[32m━━━━━━━━━━━━━━━━━━━━\u001b[0m\u001b[37m\u001b[0m \u001b[1m0s\u001b[0m 7ms/step - accuracy: 0.9955 - loss: 0.0298 - val_accuracy: 0.9912 - val_loss: 0.0520\n",
            "Epoch 19/20\n",
            "\u001b[1m15/15\u001b[0m \u001b[32m━━━━━━━━━━━━━━━━━━━━\u001b[0m\u001b[37m\u001b[0m \u001b[1m0s\u001b[0m 7ms/step - accuracy: 0.9955 - loss: 0.0250 - val_accuracy: 0.9912 - val_loss: 0.0509\n",
            "Epoch 20/20\n",
            "\u001b[1m15/15\u001b[0m \u001b[32m━━━━━━━━━━━━━━━━━━━━\u001b[0m\u001b[37m\u001b[0m \u001b[1m0s\u001b[0m 7ms/step - accuracy: 0.9890 - loss: 0.0370 - val_accuracy: 0.9912 - val_loss: 0.0510\n",
            "\u001b[1m4/4\u001b[0m \u001b[32m━━━━━━━━━━━━━━━━━━━━\u001b[0m\u001b[37m\u001b[0m \u001b[1m0s\u001b[0m 9ms/step - accuracy: 0.9850 - loss: 0.0674 \n",
            "Test Accuracy: 99.12%\n",
            "dict_keys(['accuracy', 'loss', 'val_accuracy', 'val_loss'])\n"
          ]
        },
        {
          "output_type": "display_data",
          "data": {
            "text/plain": [
              "<Figure size 1200x400 with 2 Axes>"
            ],
            "image/png": "[encoded data removed]"
          },
          "metadata": {}
        }
      ]
    },
    {
      "cell_type": "markdown",
      "source": [
        "## Example 4 - Wine Quality Prediction (Multiclass Classification)"
      ],
      "metadata": {
        "id": "7IDF2iCqJPpc"
      }
    },
    {
      "cell_type": "code",
      "source": [
        "# The Wine dataset from Scikit-Learn contains 178 samples with 13 numerical features,\n",
        "# such as alcohol content, flavonoids, and phenols, representing different chemical properties of wines.\n",
        "# The goal is to classify wines into three types (Class 0, 1, and 2) based on their composition.\n",
        "# It originates from the UCI Machine Learning Repository and is commonly used for multiclass classification tasks\n",
        "\n",
        "import tensorflow as tf\n",
        "from tensorflow.keras import layers,models\n",
        "from sklearn.datasets import load_wine\n",
        "from sklearn.model_selection import train_test_split\n",
        "from sklearn.preprocessing import StandardScaler\n",
        "import matplotlib.pyplot as plt\n",
        "\n",
        "\n",
        "# Load dataset\n",
        "data = load_wine()\n",
        "X,y = data.data,data.target\n",
        "\n",
        "# Split dataset into training and testing sets\n",
        "X_train,X_test,y_train,y_test = train_test_split(X,y,test_size=0.2,random_state=42,stratify=y)\n",
        "\n",
        "# Normalize features using Z-score standardization\n",
        "scaler = StandardScaler()\n",
        "X_train = scaler.fit_transform(X_train)\n",
        "X_test = scaler.transform(X_test)\n",
        "\n",
        "# Build a neural network model\n",
        "model = models.Sequential([\n",
        "    layers.Dense(64,activation='relu',input_shape=(X_train.shape[1],)),\n",
        "    layers.Dense(32,activation='relu'),\n",
        "    layers.Dense(3,activation='softmax') # Multiclass classification - 3 output classes (0, 1, 2)\n",
        "])\n",
        "# Compile model\n",
        "model.compile(optimizer='adam',\n",
        "              loss='sparse_categorical_crossentropy',\n",
        "              metrics=['accuracy'])\n",
        "# Train model\n",
        "history = model.fit(X_train,y_train,epochs=50,batch_size=32,verbose=1,validation_data=(X_test,y_test))\n",
        "\n",
        "# Evaluate model\n",
        "test_loss,test_accuracy = model.evaluate(X_test,y_test)\n",
        "print(f'Test Accuracy: {test_accuracy*100:.2f}%')\n",
        "\n",
        "# Plot training history\n",
        "plt.figure(figsize=(12,4))\n",
        "plt.subplot(1,2,1)\n",
        "plt.plot(history.history['accuracy'],label='Training accuracy')\n",
        "plt.plot(history.history['val_accuracy'],label='Validation accuracy')\n",
        "plt.xlabel('Epochs')\n",
        "plt.ylabel('Accuracy')\n",
        "plt.legend()\n",
        "plt.title('Training and Validation Accuracy')\n",
        "\n",
        "plt.subplot(1,2,2)\n",
        "plt.plot(history.history['loss'],label='Training loss')\n",
        "plt.plot(history.history['val_loss'],label='Validation loss')\n",
        "plt.xlabel('Epochs')\n",
        "plt.ylabel('Loss')\n",
        "plt.legend()\n",
        "plt.title('Training and Validation Loss')\n",
        "\n",
        "plt.show()\n",
        "\n",
        "# Predict Sample\n",
        "sample_prediction = np.expand_dims(X_test[0],axis=0)\n",
        "predicted_class = np.argmax(model.predict(sample_prediction)) # np.argmax() is used to pick the index of the highest probability — i.e. the predicted class in multi-class classification.\n",
        "print(f'Predicted Class : {predicted_class}, Actual Class: {y_test[0]}')\n",
        "\n",
        "# Using stratify=y ensures that the proportion of each class remains the same in both training and testing sets,\n",
        "# leading to a more balanced and representative split.\n",
        "\n",
        "# Example: Without stratify=y\n",
        "# If you have a dataset with 80% Class 0, 15% Class 1, and 5% Class 2,\n",
        "# a random split without stratification might result in:\n",
        "\n",
        "# Training set: 90% Class 0, 8% Class 1, 2% Class 2\n",
        "# Test set: 60% Class 0, 30% Class 1, 10% Class 2\n",
        "\n",
        "# This skews the distribution, leading to poor generalization.\n",
        "\n",
        "# Example: With stratify=y\n",
        "\n",
        "# Training set: 80% Class 0, 15% Class 1, 5% Class 2\n",
        "# Test set: 80% Class 0, 15% Class 1, 5% Class 2\n",
        "\n",
        "# This ensures a balanced representation of all classes in both sets.\n",
        "\n",
        "# Always use stratify=y when working with classification problems, especially when your dataset has an unequal class distribution.\n"
      ],
      "metadata": {
        "colab": {
          "base_uri": "https://localhost:8080/",
          "height": 1000
        },
        "id": "TCMGrvw4JTTl",
        "outputId": "75d4fc86-773f-4988-b7d7-34ec7c2fdcfb"
      },
      "execution_count": 19,
      "outputs": [
        {
          "output_type": "stream",
          "name": "stdout",
          "text": [
            "Epoch 1/50\n"
          ]
        },
        {
          "output_type": "stream",
          "name": "stderr",
          "text": [
            "/usr/local/lib/python3.11/dist-packages/keras/src/layers/core/dense.py:87: UserWarning: Do not pass an `input_shape`/`input_dim` argument to a layer. When using Sequential models, prefer using an `Input(shape)` object as the first layer in the model instead.\n",
            "  super().__init__(activity_regularizer=activity_regularizer, **kwargs)\n"
          ]
        },
        {
          "output_type": "stream",
          "name": "stdout",
          "text": [
            "\u001b[1m5/5\u001b[0m \u001b[32m━━━━━━━━━━━━━━━━━━━━\u001b[0m\u001b[37m\u001b[0m \u001b[1m2s\u001b[0m 61ms/step - accuracy: 0.4254 - loss: 1.0323 - val_accuracy: 0.5556 - val_loss: 0.9447\n",
            "Epoch 2/50\n",
            "\u001b[1m5/5\u001b[0m \u001b[32m━━━━━━━━━━━━━━━━━━━━\u001b[0m\u001b[37m\u001b[0m \u001b[1m0s\u001b[0m 18ms/step - accuracy: 0.6889 - loss: 0.9089 - val_accuracy: 0.8333 - val_loss: 0.7951\n",
            "Epoch 3/50\n",
            "\u001b[1m5/5\u001b[0m \u001b[32m━━━━━━━━━━━━━━━━━━━━\u001b[0m\u001b[37m\u001b[0m \u001b[1m0s\u001b[0m 19ms/step - accuracy: 0.9039 - loss: 0.7733 - val_accuracy: 0.8889 - val_loss: 0.6751\n",
            "Epoch 4/50\n",
            "\u001b[1m5/5\u001b[0m \u001b[32m━━━━━━━━━━━━━━━━━━━━\u001b[0m\u001b[37m\u001b[0m \u001b[1m0s\u001b[0m 20ms/step - accuracy: 0.9474 - loss: 0.6687 - val_accuracy: 0.8889 - val_loss: 0.5762\n",
            "Epoch 5/50\n",
            "\u001b[1m5/5\u001b[0m \u001b[32m━━━━━━━━━━━━━━━━━━━━\u001b[0m\u001b[37m\u001b[0m \u001b[1m0s\u001b[0m 18ms/step - accuracy: 0.9573 - loss: 0.5682 - val_accuracy: 0.9722 - val_loss: 0.4936\n",
            "Epoch 6/50\n",
            "\u001b[1m5/5\u001b[0m \u001b[32m━━━━━━━━━━━━━━━━━━━━\u001b[0m\u001b[37m\u001b[0m \u001b[1m0s\u001b[0m 23ms/step - accuracy: 0.9686 - loss: 0.4929 - val_accuracy: 0.9722 - val_loss: 0.4235\n",
            "Epoch 7/50\n",
            "\u001b[1m5/5\u001b[0m \u001b[32m━━━━━━━━━━━━━━━━━━━━\u001b[0m\u001b[37m\u001b[0m \u001b[1m0s\u001b[0m 20ms/step - accuracy: 0.9681 - loss: 0.4175 - val_accuracy: 0.9722 - val_loss: 0.3635\n",
            "Epoch 8/50\n",
            "\u001b[1m5/5\u001b[0m \u001b[32m━━━━━━━━━━━━━━━━━━━━\u001b[0m\u001b[37m\u001b[0m \u001b[1m0s\u001b[0m 18ms/step - accuracy: 0.9648 - loss: 0.3777 - val_accuracy: 0.9722 - val_loss: 0.3110\n",
            "Epoch 9/50\n",
            "\u001b[1m5/5\u001b[0m \u001b[32m━━━━━━━━━━━━━━━━━━━━\u001b[0m\u001b[37m\u001b[0m \u001b[1m0s\u001b[0m 20ms/step - accuracy: 0.9574 - loss: 0.3311 - val_accuracy: 0.9722 - val_loss: 0.2648\n",
            "Epoch 10/50\n",
            "\u001b[1m5/5\u001b[0m \u001b[32m━━━━━━━━━━━━━━━━━━━━\u001b[0m\u001b[37m\u001b[0m \u001b[1m0s\u001b[0m 19ms/step - accuracy: 0.9867 - loss: 0.2480 - val_accuracy: 0.9722 - val_loss: 0.2271\n",
            "Epoch 11/50\n",
            "\u001b[1m5/5\u001b[0m \u001b[32m━━━━━━━━━━━━━━━━━━━━\u001b[0m\u001b[37m\u001b[0m \u001b[1m0s\u001b[0m 18ms/step - accuracy: 0.9620 - loss: 0.2507 - val_accuracy: 0.9722 - val_loss: 0.1973\n",
            "Epoch 12/50\n",
            "\u001b[1m5/5\u001b[0m \u001b[32m━━━━━━━━━━━━━━━━━━━━\u001b[0m\u001b[37m\u001b[0m \u001b[1m0s\u001b[0m 19ms/step - accuracy: 0.9736 - loss: 0.2028 - val_accuracy: 0.9722 - val_loss: 0.1729\n",
            "Epoch 13/50\n",
            "\u001b[1m5/5\u001b[0m \u001b[32m━━━━━━━━━━━━━━━━━━━━\u001b[0m\u001b[37m\u001b[0m \u001b[1m0s\u001b[0m 19ms/step - accuracy: 0.9946 - loss: 0.1618 - val_accuracy: 1.0000 - val_loss: 0.1526\n",
            "Epoch 14/50\n",
            "\u001b[1m5/5\u001b[0m \u001b[32m━━━━━━━━━━━━━━━━━━━━\u001b[0m\u001b[37m\u001b[0m \u001b[1m0s\u001b[0m 23ms/step - accuracy: 0.9868 - loss: 0.1448 - val_accuracy: 1.0000 - val_loss: 0.1358\n",
            "Epoch 15/50\n",
            "\u001b[1m5/5\u001b[0m \u001b[32m━━━━━━━━━━━━━━━━━━━━\u001b[0m\u001b[37m\u001b[0m \u001b[1m0s\u001b[0m 19ms/step - accuracy: 0.9868 - loss: 0.1263 - val_accuracy: 1.0000 - val_loss: 0.1233\n",
            "Epoch 16/50\n",
            "\u001b[1m5/5\u001b[0m \u001b[32m━━━━━━━━━━━━━━━━━━━━\u001b[0m\u001b[37m\u001b[0m \u001b[1m0s\u001b[0m 19ms/step - accuracy: 0.9977 - loss: 0.1077 - val_accuracy: 0.9722 - val_loss: 0.1136\n",
            "Epoch 17/50\n",
            "\u001b[1m5/5\u001b[0m \u001b[32m━━━━━━━━━━━━━━━━━━━━\u001b[0m\u001b[37m\u001b[0m \u001b[1m0s\u001b[0m 19ms/step - accuracy: 0.9868 - loss: 0.0988 - val_accuracy: 0.9722 - val_loss: 0.1061\n",
            "Epoch 18/50\n",
            "\u001b[1m5/5\u001b[0m \u001b[32m━━━━━━━━━━━━━━━━━━━━\u001b[0m\u001b[37m\u001b[0m \u001b[1m0s\u001b[0m 18ms/step - accuracy: 0.9964 - loss: 0.0802 - val_accuracy: 0.9722 - val_loss: 0.0991\n",
            "Epoch 19/50\n",
            "\u001b[1m5/5\u001b[0m \u001b[32m━━━━━━━━━━━━━━━━━━━━\u001b[0m\u001b[37m\u001b[0m \u001b[1m0s\u001b[0m 19ms/step - accuracy: 0.9964 - loss: 0.0668 - val_accuracy: 0.9722 - val_loss: 0.0930\n",
            "Epoch 20/50\n",
            "\u001b[1m5/5\u001b[0m \u001b[32m━━━━━━━━━━━━━━━━━━━━\u001b[0m\u001b[37m\u001b[0m \u001b[1m0s\u001b[0m 18ms/step - accuracy: 0.9964 - loss: 0.0615 - val_accuracy: 0.9722 - val_loss: 0.0883\n",
            "Epoch 21/50\n",
            "\u001b[1m5/5\u001b[0m \u001b[32m━━━━━━━━━━━━━━━━━━━━\u001b[0m\u001b[37m\u001b[0m \u001b[1m0s\u001b[0m 18ms/step - accuracy: 0.9964 - loss: 0.0542 - val_accuracy: 0.9722 - val_loss: 0.0841\n",
            "Epoch 22/50\n",
            "\u001b[1m5/5\u001b[0m \u001b[32m━━━━━━━━━━━━━━━━━━━━\u001b[0m\u001b[37m\u001b[0m \u001b[1m0s\u001b[0m 31ms/step - accuracy: 0.9946 - loss: 0.0434 - val_accuracy: 1.0000 - val_loss: 0.0812\n",
            "Epoch 23/50\n",
            "\u001b[1m5/5\u001b[0m \u001b[32m━━━━━━━━━━━━━━━━━━━━\u001b[0m\u001b[37m\u001b[0m \u001b[1m0s\u001b[0m 18ms/step - accuracy: 0.9920 - loss: 0.0452 - val_accuracy: 0.9722 - val_loss: 0.0805\n",
            "Epoch 24/50\n",
            "\u001b[1m5/5\u001b[0m \u001b[32m━━━━━━━━━━━━━━━━━━━━\u001b[0m\u001b[37m\u001b[0m \u001b[1m0s\u001b[0m 18ms/step - accuracy: 0.9964 - loss: 0.0316 - val_accuracy: 0.9722 - val_loss: 0.0787\n",
            "Epoch 25/50\n",
            "\u001b[1m5/5\u001b[0m \u001b[32m━━━━━━━━━━━━━━━━━━━━\u001b[0m\u001b[37m\u001b[0m \u001b[1m0s\u001b[0m 18ms/step - accuracy: 0.9920 - loss: 0.0373 - val_accuracy: 0.9722 - val_loss: 0.0773\n",
            "Epoch 26/50\n",
            "\u001b[1m5/5\u001b[0m \u001b[32m━━━━━━━━━━━━━━━━━━━━\u001b[0m\u001b[37m\u001b[0m \u001b[1m0s\u001b[0m 19ms/step - accuracy: 1.0000 - loss: 0.0363 - val_accuracy: 0.9722 - val_loss: 0.0777\n",
            "Epoch 27/50\n",
            "\u001b[1m5/5\u001b[0m \u001b[32m━━━━━━━━━━━━━━━━━━━━\u001b[0m\u001b[37m\u001b[0m \u001b[1m0s\u001b[0m 18ms/step - accuracy: 1.0000 - loss: 0.0299 - val_accuracy: 0.9722 - val_loss: 0.0762\n",
            "Epoch 28/50\n",
            "\u001b[1m5/5\u001b[0m \u001b[32m━━━━━━━━━━━━━━━━━━━━\u001b[0m\u001b[37m\u001b[0m \u001b[1m0s\u001b[0m 19ms/step - accuracy: 1.0000 - loss: 0.0308 - val_accuracy: 0.9722 - val_loss: 0.0752\n",
            "Epoch 29/50\n",
            "\u001b[1m5/5\u001b[0m \u001b[32m━━━━━━━━━━━━━━━━━━━━\u001b[0m\u001b[37m\u001b[0m \u001b[1m0s\u001b[0m 24ms/step - accuracy: 1.0000 - loss: 0.0272 - val_accuracy: 0.9722 - val_loss: 0.0740\n",
            "Epoch 30/50\n",
            "\u001b[1m5/5\u001b[0m \u001b[32m━━━━━━━━━━━━━━━━━━━━\u001b[0m\u001b[37m\u001b[0m \u001b[1m0s\u001b[0m 28ms/step - accuracy: 1.0000 - loss: 0.0241 - val_accuracy: 0.9722 - val_loss: 0.0730\n",
            "Epoch 31/50\n",
            "\u001b[1m5/5\u001b[0m \u001b[32m━━━━━━━━━━━━━━━━━━━━\u001b[0m\u001b[37m\u001b[0m \u001b[1m0s\u001b[0m 33ms/step - accuracy: 1.0000 - loss: 0.0246 - val_accuracy: 0.9722 - val_loss: 0.0726\n",
            "Epoch 32/50\n",
            "\u001b[1m5/5\u001b[0m \u001b[32m━━━━━━━━━━━━━━━━━━━━\u001b[0m\u001b[37m\u001b[0m \u001b[1m0s\u001b[0m 33ms/step - accuracy: 1.0000 - loss: 0.0189 - val_accuracy: 0.9722 - val_loss: 0.0702\n",
            "Epoch 33/50\n",
            "\u001b[1m5/5\u001b[0m \u001b[32m━━━━━━━━━━━━━━━━━━━━\u001b[0m\u001b[37m\u001b[0m \u001b[1m0s\u001b[0m 45ms/step - accuracy: 1.0000 - loss: 0.0200 - val_accuracy: 0.9722 - val_loss: 0.0701\n",
            "Epoch 34/50\n",
            "\u001b[1m5/5\u001b[0m \u001b[32m━━━━━━━━━━━━━━━━━━━━\u001b[0m\u001b[37m\u001b[0m \u001b[1m0s\u001b[0m 41ms/step - accuracy: 1.0000 - loss: 0.0174 - val_accuracy: 0.9722 - val_loss: 0.0698\n",
            "Epoch 35/50\n",
            "\u001b[1m5/5\u001b[0m \u001b[32m━━━━━━━━━━━━━━━━━━━━\u001b[0m\u001b[37m\u001b[0m \u001b[1m0s\u001b[0m 35ms/step - accuracy: 1.0000 - loss: 0.0140 - val_accuracy: 0.9722 - val_loss: 0.0690\n",
            "Epoch 36/50\n",
            "\u001b[1m5/5\u001b[0m \u001b[32m━━━━━━━━━━━━━━━━━━━━\u001b[0m\u001b[37m\u001b[0m \u001b[1m0s\u001b[0m 35ms/step - accuracy: 1.0000 - loss: 0.0162 - val_accuracy: 0.9722 - val_loss: 0.0708\n",
            "Epoch 37/50\n",
            "\u001b[1m5/5\u001b[0m \u001b[32m━━━━━━━━━━━━━━━━━━━━\u001b[0m\u001b[37m\u001b[0m \u001b[1m0s\u001b[0m 40ms/step - accuracy: 1.0000 - loss: 0.0130 - val_accuracy: 0.9722 - val_loss: 0.0707\n",
            "Epoch 38/50\n",
            "\u001b[1m5/5\u001b[0m \u001b[32m━━━━━━━━━━━━━━━━━━━━\u001b[0m\u001b[37m\u001b[0m \u001b[1m0s\u001b[0m 34ms/step - accuracy: 1.0000 - loss: 0.0116 - val_accuracy: 0.9722 - val_loss: 0.0702\n",
            "Epoch 39/50\n",
            "\u001b[1m5/5\u001b[0m \u001b[32m━━━━━━━━━━━━━━━━━━━━\u001b[0m\u001b[37m\u001b[0m \u001b[1m0s\u001b[0m 44ms/step - accuracy: 1.0000 - loss: 0.0127 - val_accuracy: 0.9722 - val_loss: 0.0708\n",
            "Epoch 40/50\n",
            "\u001b[1m5/5\u001b[0m \u001b[32m━━━━━━━━━━━━━━━━━━━━\u001b[0m\u001b[37m\u001b[0m \u001b[1m0s\u001b[0m 41ms/step - accuracy: 1.0000 - loss: 0.0105 - val_accuracy: 0.9722 - val_loss: 0.0702\n",
            "Epoch 41/50\n",
            "\u001b[1m5/5\u001b[0m \u001b[32m━━━━━━━━━━━━━━━━━━━━\u001b[0m\u001b[37m\u001b[0m \u001b[1m0s\u001b[0m 45ms/step - accuracy: 1.0000 - loss: 0.0093 - val_accuracy: 0.9722 - val_loss: 0.0698\n",
            "Epoch 42/50\n",
            "\u001b[1m5/5\u001b[0m \u001b[32m━━━━━━━━━━━━━━━━━━━━\u001b[0m\u001b[37m\u001b[0m \u001b[1m0s\u001b[0m 43ms/step - accuracy: 1.0000 - loss: 0.0094 - val_accuracy: 0.9722 - val_loss: 0.0703\n",
            "Epoch 43/50\n",
            "\u001b[1m5/5\u001b[0m \u001b[32m━━━━━━━━━━━━━━━━━━━━\u001b[0m\u001b[37m\u001b[0m \u001b[1m0s\u001b[0m 24ms/step - accuracy: 1.0000 - loss: 0.0094 - val_accuracy: 0.9722 - val_loss: 0.0710\n",
            "Epoch 44/50\n",
            "\u001b[1m5/5\u001b[0m \u001b[32m━━━━━━━━━━━━━━━━━━━━\u001b[0m\u001b[37m\u001b[0m \u001b[1m0s\u001b[0m 24ms/step - accuracy: 1.0000 - loss: 0.0074 - val_accuracy: 0.9722 - val_loss: 0.0709\n",
            "Epoch 45/50\n",
            "\u001b[1m5/5\u001b[0m \u001b[32m━━━━━━━━━━━━━━━━━━━━\u001b[0m\u001b[37m\u001b[0m \u001b[1m0s\u001b[0m 24ms/step - accuracy: 1.0000 - loss: 0.0076 - val_accuracy: 0.9722 - val_loss: 0.0702\n",
            "Epoch 46/50\n",
            "\u001b[1m5/5\u001b[0m \u001b[32m━━━━━━━━━━━━━━━━━━━━\u001b[0m\u001b[37m\u001b[0m \u001b[1m0s\u001b[0m 25ms/step - accuracy: 1.0000 - loss: 0.0073 - val_accuracy: 0.9722 - val_loss: 0.0692\n",
            "Epoch 47/50\n",
            "\u001b[1m5/5\u001b[0m \u001b[32m━━━━━━━━━━━━━━━━━━━━\u001b[0m\u001b[37m\u001b[0m \u001b[1m0s\u001b[0m 21ms/step - accuracy: 1.0000 - loss: 0.0086 - val_accuracy: 0.9722 - val_loss: 0.0695\n",
            "Epoch 48/50\n",
            "\u001b[1m5/5\u001b[0m \u001b[32m━━━━━━━━━━━━━━━━━━━━\u001b[0m\u001b[37m\u001b[0m \u001b[1m0s\u001b[0m 18ms/step - accuracy: 1.0000 - loss: 0.0065 - val_accuracy: 0.9722 - val_loss: 0.0694\n",
            "Epoch 49/50\n",
            "\u001b[1m5/5\u001b[0m \u001b[32m━━━━━━━━━━━━━━━━━━━━\u001b[0m\u001b[37m\u001b[0m \u001b[1m0s\u001b[0m 18ms/step - accuracy: 1.0000 - loss: 0.0070 - val_accuracy: 0.9722 - val_loss: 0.0689\n",
            "Epoch 50/50\n",
            "\u001b[1m5/5\u001b[0m \u001b[32m━━━━━━━━━━━━━━━━━━━━\u001b[0m\u001b[37m\u001b[0m \u001b[1m0s\u001b[0m 23ms/step - accuracy: 1.0000 - loss: 0.0065 - val_accuracy: 0.9722 - val_loss: 0.0695\n",
            "\u001b[1m2/2\u001b[0m \u001b[32m━━━━━━━━━━━━━━━━━━━━\u001b[0m\u001b[37m\u001b[0m \u001b[1m0s\u001b[0m 24ms/step - accuracy: 0.9711 - loss: 0.0724\n",
            "Test Accuracy: 97.22%\n"
          ]
        },
        {
          "output_type": "display_data",
          "data": {
            "text/plain": [
              "<Figure size 1200x400 with 2 Axes>"
            ],
            "image/png": "[encoded data removed]"
          },
          "metadata": {}
        },
        {
          "output_type": "stream",
          "name": "stdout",
          "text": [
            "\u001b[1m1/1\u001b[0m \u001b[32m━━━━━━━━━━━━━━━━━━━━\u001b[0m\u001b[37m\u001b[0m \u001b[1m0s\u001b[0m 74ms/step\n",
            "Predicted Class : 0, Actual Class: 0\n"
          ]
        }
      ]
    },
    {
      "cell_type": "code",
      "source": [],
      "metadata": {
        "id": "Jr96uxxuWIJ9"
      },
      "execution_count": null,
      "outputs": []
    }
  ]
}